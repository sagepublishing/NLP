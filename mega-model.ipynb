{
 "cells": [
  {
   "cell_type": "code",
   "execution_count": 1,
   "metadata": {},
   "outputs": [],
   "source": [
    "import spacy\n",
    "import operator"
   ]
  },
  {
   "cell_type": "code",
   "execution_count": 2,
   "metadata": {},
   "outputs": [],
   "source": [
    "nlp = spacy.load('/path/to/mega-model')"
   ]
  },
  {
   "cell_type": "code",
   "execution_count": 3,
   "metadata": {},
   "outputs": [],
   "source": [
    "titles = {'SCO':'Sage Open Medical Case Reports',\n",
    "         'ADE': '''Advances in Mechanical Engineering''',\n",
    "         'SGO': 'Sage Open',\n",
    "         'SMO': 'Sage Open Medicine'}"
   ]
  },
  {
   "cell_type": "code",
   "execution_count": 4,
   "metadata": {},
   "outputs": [],
   "source": [
    "def classify():\n",
    "    text = input(\"Enter abstract: \")\n",
    "    doc = nlp(text)\n",
    "    sort = sorted(doc.cats.items(), key=operator.itemgetter(1),reverse=True)\n",
    "    print(\" \")\n",
    "    for score in sort:\n",
    "        journal = titles.get(score[0])\n",
    "        print(str(round(score[1],5)) + ' : ' + journal)"
   ]
  },
  {
   "cell_type": "code",
   "execution_count": 5,
   "metadata": {},
   "outputs": [
    {
     "name": "stdin",
     "output_type": "stream",
     "text": [
      "Enter abstract:  Although teenage pregnancy appears to be on the decline in South Africa, it is still high and a matter of heated debate. Some commentators argue that the child support grant is fuelling the high levels of childbearing among young women in South Africa. To investigate this relationship, qualitative data using in-depth interviews was conducted with women aged 18 to 24 years who were recipients of the child support grant. The study was conducted in Mtubatuba, which is located in northern KwaZulu-Natal in South Africa. The women in the study denied that they had children to access the grant. They pointed out that the grant is minimal and did not cover the cost of raising a child. The women identified a range of factors that contribute to childbearing including inadequate knowledge about sex, gender relations, lack of access to contraceptive services, and risky behaviors. Age appropriate and youth friendly health services should thus be a priority for government in tackling this problem.\n"
     ]
    },
    {
     "name": "stdout",
     "output_type": "stream",
     "text": [
      " \n",
      "0.97461 : Sage Open\n",
      "0.01375 : Advances in Mechanical Engineering\n",
      "0.01362 : Sage Open Medical Case Reports\n",
      "0.00351 : Sage Open Medicine\n"
     ]
    }
   ],
   "source": [
    "classify()"
   ]
  },
  {
   "cell_type": "code",
   "execution_count": null,
   "metadata": {},
   "outputs": [],
   "source": [
    "Although teenage pregnancy appears to be on the decline in South Africa, it is still high and a matter of heated debate. Some commentators argue that the child support grant is fuelling the high levels of childbearing among young women in South Africa. To investigate this relationship, qualitative data using in-depth interviews was conducted with women aged 18 to 24 years who were recipients of the child support grant. The study was conducted in Mtubatuba, which is located in northern KwaZulu-Natal in South Africa. The women in the study denied that they had children to access the grant. They pointed out that the grant is minimal and did not cover the cost of raising a child. The women identified a range of factors that contribute to childbearing including inadequate knowledge about sex, gender relations, lack of access to contraceptive services, and risky behaviors. Age appropriate and youth friendly health services should thus be a priority for government in tackling this problem."
   ]
  },
  {
   "cell_type": "code",
   "execution_count": null,
   "metadata": {},
   "outputs": [],
   "source": [
    "Emotion is the external way to express human’s inner thoughts, which has a significant influence on human behaviors. It is an important prerequisite for studying the intrinsic affect mechanism of emotions on behaviors certain. In this article, drivers’ emotional induction experiment, actual and virtual driving experiments are designed to obtain the multi-source dynamic data of human–vehicle–environment under the condition of different emotions. The influences of emotions’ changes on car movement characteristics of different types of drivers are explored. Changing law of car movement characteristics under the condition of different emotions can be obtained finally. The research can provide theoretical basis for the future research of driver assistance system, which is of great significance to realize active vehicle safety warning and unmanned driving in the future."
   ]
  }
 ],
 "metadata": {
  "kernelspec": {
   "display_name": "Python 3",
   "language": "python",
   "name": "python3"
  },
  "language_info": {
   "codemirror_mode": {
    "name": "ipython",
    "version": 3
   },
   "file_extension": ".py",
   "mimetype": "text/x-python",
   "name": "python",
   "nbconvert_exporter": "python",
   "pygments_lexer": "ipython3",
   "version": "3.6.6"
  }
 },
 "nbformat": 4,
 "nbformat_minor": 2
}
