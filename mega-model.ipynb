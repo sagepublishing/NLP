{
 "cells": [
  {
   "cell_type": "markdown",
   "metadata": {},
   "source": [
    "Loading and testing of an early model trained using prodigy. \n",
    "Model is exported after training as single file including training, evaluation and meta data. \n",
    "Can be loaded into shell or ide via spacy.load, create a doc object by doc = nlp(\"text\"), call classifier by doc.cats"
   ]
  },
  {
   "cell_type": "code",
   "execution_count": 1,
   "metadata": {},
   "outputs": [],
   "source": [
    "import spacy\n",
    "import operator"
   ]
  },
  {
   "cell_type": "code",
   "execution_count": 2,
   "metadata": {},
   "outputs": [],
   "source": [
    "nlp = spacy.load('/path/to/mega-model')"
   ]
  },
  {
   "cell_type": "code",
   "execution_count": 3,
   "metadata": {},
   "outputs": [],
   "source": [
    "titles = {'SCO':'Sage Open Medical Case Reports',\n",
    "         'ADE': '''Advances in Mechanical Engineering''',\n",
    "         'SGO': 'Sage Open',\n",
    "         'SMO': 'Sage Open Medicine'}"
   ]
  },
  {
   "cell_type": "code",
   "execution_count": 4,
   "metadata": {},
   "outputs": [],
   "source": [
    "def classify():\n",
    "    text = input(\"Enter abstract: \")\n",
    "    doc = nlp(text)\n",
    "    sort = sorted(doc.cats.items(), key=operator.itemgetter(1),reverse=True)\n",
    "    print(\" \")\n",
    "    for score in sort:\n",
    "        journal = titles.get(score[0])\n",
    "        print(str(round(score[1],5)) + ' : ' + journal)"
   ]
  },
  {
   "cell_type": "code",
   "execution_count": 5,
   "metadata": {},
   "outputs": [
    {
     "name": "stdin",
     "output_type": "stream",
     "text": [
      "Enter abstract:  Although teenage pregnancy appears to be on the decline in South Africa, it is still high and a matter of heated debate. Some commentators argue that the child support grant is fuelling the high levels of childbearing among young women in South Africa. To investigate this relationship, qualitative data using in-depth interviews was conducted with women aged 18 to 24 years who were recipients of the child support grant. The study was conducted in Mtubatuba, which is located in northern KwaZulu-Natal in South Africa. The women in the study denied that they had children to access the grant. They pointed out that the grant is minimal and did not cover the cost of raising a child. The women identified a range of factors that contribute to childbearing including inadequate knowledge about sex, gender relations, lack of access to contraceptive services, and risky behaviors. Age appropriate and youth friendly health services should thus be a priority for government in tackling this problem.\n"
     ]
    },
    {
     "name": "stdout",
     "output_type": "stream",
     "text": [
      " \n",
      "0.97461 : Sage Open\n",
      "0.01375 : Advances in Mechanical Engineering\n",
      "0.01362 : Sage Open Medical Case Reports\n",
      "0.00351 : Sage Open Medicine\n"
     ]
    }
   ],
   "source": [
    "classify()"
   ]
  }
 ],
 "metadata": {
  "kernelspec": {
   "display_name": "Python 3",
   "language": "python",
   "name": "python3"
  },
  "language_info": {
   "codemirror_mode": {
    "name": "ipython",
    "version": 3
   },
   "file_extension": ".py",
   "mimetype": "text/x-python",
   "name": "python",
   "nbconvert_exporter": "python",
   "pygments_lexer": "ipython3",
   "version": "3.6.6"
  }
 },
 "nbformat": 4,
 "nbformat_minor": 2
}
