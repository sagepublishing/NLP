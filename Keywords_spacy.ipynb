{
 "cells": [
  {
   "cell_type": "markdown",
   "metadata": {},
   "source": [
    "This is a rough and read keyword generator. Just an experiment to sit next to the abstarct classification. LDA probably isn't right for this. \n",
    "Performs sensibly on clear , declaritive abstracts. Less useful for more narrative ones. "
   ]
  },
  {
   "cell_type": "code",
   "execution_count": 1,
   "metadata": {},
   "outputs": [
    {
     "data": {
      "text/html": [
       "<script>requirejs.config({paths: { 'plotly': ['https://cdn.plot.ly/plotly-latest.min']},});if(!window.Plotly) {{require(['plotly'],function(plotly) {window.Plotly=plotly;});}}</script>"
      ],
      "text/vnd.plotly.v1+html": [
       "<script>requirejs.config({paths: { 'plotly': ['https://cdn.plot.ly/plotly-latest.min']},});if(!window.Plotly) {{require(['plotly'],function(plotly) {window.Plotly=plotly;});}}</script>"
      ]
     },
     "metadata": {},
     "output_type": "display_data"
    }
   ],
   "source": [
    "import numpy as np\n",
    "import pandas as pd\n",
    "from tqdm import tqdm\n",
    "import string\n",
    "import matplotlib.pyplot as plt\n",
    "from sklearn.decomposition import NMF, LatentDirichletAllocation, TruncatedSVD\n",
    "from sklearn.feature_extraction.text import CountVectorizer\n",
    "from sklearn.manifold import TSNE\n",
    "import concurrent.futures\n",
    "import time\n",
    "import pyLDAvis.sklearn\n",
    "from pylab import bone, pcolor, colorbar, plot, show, rcParams, savefig\n",
    "import warnings\n",
    "warnings.filterwarnings('ignore')\n",
    "\n",
    "%matplotlib inline\n",
    "import os\n",
    "#print(os.listdir(\"../input\"))\n",
    "\n",
    "# Plotly based imports for visualization\n",
    "from plotly import tools\n",
    "import plotly.plotly as py\n",
    "from plotly.offline import init_notebook_mode, iplot\n",
    "init_notebook_mode(connected=True)\n",
    "import plotly.graph_objs as go\n",
    "import plotly.figure_factory as ff"
   ]
  },
  {
   "cell_type": "code",
   "execution_count": 2,
   "metadata": {},
   "outputs": [],
   "source": [
    "import spacy\n",
    "from spacy.lang.en.stop_words import STOP_WORDS\n",
    "from spacy.lang.en import English"
   ]
  },
  {
   "cell_type": "code",
   "execution_count": 3,
   "metadata": {},
   "outputs": [],
   "source": [
    "nlp = spacy.load('en_core_web_lg')"
   ]
  },
  {
   "cell_type": "code",
   "execution_count": 4,
   "metadata": {},
   "outputs": [],
   "source": [
    "punctuations = string.punctuation\n",
    "stopwords = list(STOP_WORDS)"
   ]
  },
  {
   "cell_type": "code",
   "execution_count": 5,
   "metadata": {},
   "outputs": [],
   "source": [
    "parser = English()\n",
    "def spacy_tokenizer(sentence):\n",
    "    mytokens = parser(sentence)\n",
    "    mytokens = [ word.lemma_.lower().strip() if word.lemma_ != \"-PRON-\" else word.lower_ for word in mytokens ]\n",
    "    mytokens = [ word for word in mytokens if word not in stopwords and word not in punctuations ]\n",
    "    mytokens = \" \".join([i for i in mytokens])\n",
    "    return mytokens"
   ]
  },
  {
   "cell_type": "code",
   "execution_count": 6,
   "metadata": {},
   "outputs": [],
   "source": [
    "def selected_topics(model, vectorizer, top_n=5):\n",
    "    for idx, topic in enumerate(model.components_):\n",
    "        #print(\"Topic %d:\" % (idx))\n",
    "        words = [(vectorizer.get_feature_names()[i], topic[i])\n",
    "                        for i in topic.argsort()[:-top_n - 1:-1]] \n",
    "        for i in range(len(words)):\n",
    "            print(words[i][0])"
   ]
  },
  {
   "cell_type": "code",
   "execution_count": 11,
   "metadata": {},
   "outputs": [],
   "source": [
    "def keyword():\n",
    "    abstract = input()\n",
    "    print(\" \")\n",
    "    processed = spacy_tokenizer(abstract)\n",
    "    data_vectorized = vectorizer.fit_transform([processed])\n",
    "    lda = LatentDirichletAllocation(n_components=1, max_iter=5, learning_method='online',verbose=True)\n",
    "    data_lda = lda.fit_transform(data_vectorized)\n",
    "    print(\" \")\n",
    "    print('Keywords:')\n",
    "    return (selected_topics(lda, vectorizer))"
   ]
  },
  {
   "cell_type": "code",
   "execution_count": 13,
   "metadata": {},
   "outputs": [
    {
     "name": "stdin",
     "output_type": "stream",
     "text": [
      " The current research examined differences in career decision-making profiles (CDMP) between American and Chinese university students, as well as the mediating mechanisms possibly underlying these cultural differences. The results of a survey among American (n = 929) and Chinese (n = 945) undergraduates showed that Chinese participants scored significantly higher on consulting with others, desire to please others, willingness to compromise, dependence on others, and procrastination, but lower on aspiration for an ideal occupation, internal locus of control, and effort invested in career decision-making than did the American participants. Using a model based on self-construals and subjective cultural norms, we established that interdependent self-construal, independent self-construal, and the perceived individualism-collectivism norm operative in the respondents’ nation served as important mediators of the relationship between culture and endorsement of the dimensions of the CDMP. Moreover, based on the model of cultural tightness-looseness, the results provided partial support for the prediction that individuals’ personal cultural orientations (e.g., self-construals) served as stronger predictors for CDMP among the American participants than among the Chinese, whereas the perceived cultural norm served as a stronger predictor for CDMP among the Chinese participants than the Americans. The current research provides implications for career decision-making in different cultural groups and suggests the operation of differential mechanisms involved in reaching career decisions across societies varying in individualism-collectivism.\n"
     ]
    },
    {
     "name": "stdout",
     "output_type": "stream",
     "text": [
      " \n",
      "iteration: 1 of max_iter: 5\n",
      "iteration: 2 of max_iter: 5\n",
      "iteration: 3 of max_iter: 5\n",
      "iteration: 4 of max_iter: 5\n",
      "iteration: 5 of max_iter: 5\n",
      " \n",
      "Keywords:\n",
      "cultural\n",
      "american\n",
      "chinese\n",
      "self\n",
      "cdmp\n"
     ]
    }
   ],
   "source": [
    "keyword()"
   ]
  },
  {
   "cell_type": "code",
   "execution_count": null,
   "metadata": {},
   "outputs": [],
   "source": []
  }
 ],
 "metadata": {
  "kernelspec": {
   "display_name": "Python 3",
   "language": "python",
   "name": "python3"
  },
  "language_info": {
   "codemirror_mode": {
    "name": "ipython",
    "version": 3
   },
   "file_extension": ".py",
   "mimetype": "text/x-python",
   "name": "python",
   "nbconvert_exporter": "python",
   "pygments_lexer": "ipython3",
   "version": "3.6.6"
  }
 },
 "nbformat": 4,
 "nbformat_minor": 2
}
